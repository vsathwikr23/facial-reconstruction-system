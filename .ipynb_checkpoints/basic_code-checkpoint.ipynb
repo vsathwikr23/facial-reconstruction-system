{
 "cells": [
  {
   "cell_type": "code",
   "execution_count": null,
   "id": "145df133",
   "metadata": {},
   "outputs": [],
   "source": [
    "import os\n",
    "import numpy as np\n",
    "import math\n",
    "from PIL import Image\n",
    "import cv2\n",
    "import matplotlib.pyplot as plt\n",
    "\n",
    "# Function to process images\n",
    "def process_images(image1_path, image2_path, output_path):\n",
    "    # Read the images\n",
    "    image = cv2.imread(image1_path)\n",
    "    mask = cv2.imread(image2_path)\n",
    "    \n",
    "    # Convert mask to grayscale\n",
    "    mask = cv2.cvtColor(mask, cv2.COLOR_BGR2GRAY)\n",
    "    \n",
    "    # Check if the sizes of the image and mask are the same, resize if necessary\n",
    "    if image.shape[:2] != mask.shape[:2]:\n",
    "        mask = cv2.resize(mask, (image.shape[1], image.shape[0]), interpolation=cv2.INTER_NEAREST)\n",
    "    \n",
    "    # Perform inpainting\n",
    "    output = cv2.inpaint(image, mask, 1, cv2.INPAINT_TELEA)\n",
    "    \n",
    "    # Save the output image\n",
    "    cv2.imwrite(output_path, output)\n",
    "    \n",
    "    # Optionally, you can return the path to the output image\n",
    "    return output_path\n",
    "\n",
    "\n",
    "# Execute the processing function\n",
    "process_images(image1_path, image2_path, output_path)"
   ]
  }
 ],
 "metadata": {
  "kernelspec": {
   "display_name": "Python 3 (ipykernel)",
   "language": "python",
   "name": "python3"
  },
  "language_info": {
   "codemirror_mode": {
    "name": "ipython",
    "version": 3
   },
   "file_extension": ".py",
   "mimetype": "text/x-python",
   "name": "python",
   "nbconvert_exporter": "python",
   "pygments_lexer": "ipython3",
   "version": "3.9.13"
  }
 },
 "nbformat": 4,
 "nbformat_minor": 5
}
