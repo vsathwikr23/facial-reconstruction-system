{
 "cells": [
  {
   "cell_type": "code",
   "execution_count": 1,
   "id": "9ff8fa48",
   "metadata": {},
   "outputs": [],
   "source": [
    "import os\n",
    "import numpy as np\n",
    "import math\n",
    "from PIL import Image\n",
    "import cv2\n",
    "import matplotlib.pyplot as plt\n",
    "import dlib\n",
    "\n",
    "image1_path = os.getenv('IMAGE1_PATH')\n",
    "image2_path = os.getenv('IMAGE2_PATH')\n",
    "output_path = os.getenv('OUTPUT_PATH')"
   ]
  },
  {
   "cell_type": "code",
   "execution_count": null,
   "id": "848dd26f",
   "metadata": {},
   "outputs": [],
   "source": [
    "def get_landmarks(image, detector, predictor):\n",
    "        # Detect faces in the image\n",
    "        detected_faces = detector(image, 1)\n",
    "        if not detected_faces:\n",
    "            raise ValueError(\"No faces detected in the image.\")\n",
    "        # Get the landmarks/parts for the face\n",
    "        shape = predictor(image, detected_faces[0])\n",
    "        return np.array([[part.x, part.y] for part in shape.parts()])\n",
    "\n",
    "def warp_image(image, points_src, points_dst, shape):\n",
    "        # Compute the transformation matrix\n",
    "        matrix = cv2.estimateAffinePartial2D(points_src, points_dst)[0]\n",
    "        # Warp the image using the matrix\n",
    "        warped_image = cv2.warpAffine(image, matrix, shape, flags=cv2.INTER_LINEAR)\n",
    "        return warped_image\n",
    "\n",
    "def blend_images(image1, image2, alpha=0.5):\n",
    "        # Weighted average of the two images\n",
    "        return cv2.addWeighted(image1, alpha, image2, (1 - alpha), 0)"
   ]
  },
  {
   "cell_type": "code",
   "execution_count": null,
   "id": "db4db73d",
   "metadata": {},
   "outputs": [],
   "source": [
    "def process_images(image1_path, image2_path, output_path):\n",
    "    \n",
    "    damaged_face = cv2.imread(image1_path)\n",
    "    complete_face = cv2.imread(image2_path)\n",
    "\n",
    "    # Ensure both images were loaded correctly\n",
    "    if damaged_face is None or complete_face is None:\n",
    "        raise ValueError(\"Could not load one or both images. Please check the file paths.\")\n",
    "\n",
    "    # Get the dimensions to resize to (the smallest of the two images)\n",
    "    new_height = min(damaged_face.shape[0], complete_face.shape[0])\n",
    "    new_width = min(damaged_face.shape[1], complete_face.shape[1])\n",
    "\n",
    "    # Resize both images to the smallest dimensions\n",
    "    image1 = cv2.resize(damaged_face, (new_width, new_height), interpolation=cv2.INTER_LINEAR)\n",
    "    image2 = cv2.resize(complete_face, (new_width, new_height), interpolation=cv2.INTER_LINEAR)\n",
    "    detector = dlib.get_frontal_face_detector()\n",
    "    predictor = dlib.shape_predictor('shape_predictor_68_face_landmarks.dat')\n",
    "\n",
    "    \n",
    "    # Get landmarks for both images\n",
    "    landmarks1 = get_landmarks(image1, detector, predictor)\n",
    "    landmarks2 = get_landmarks(image2, detector, predictor)\n",
    "\n",
    "    # Compute average landmarks\n",
    "    average_landmarks = (landmarks1 + landmarks2) / 2\n",
    "\n",
    "    # Warp both images towards the average landmarks\n",
    "    warped_image1 = warp_image(image1, landmarks1, average_landmarks, image1.shape[:2][::-1])\n",
    "    warped_image2 = warp_image(image2, landmarks2, average_landmarks, image2.shape[:2][::-1])\n",
    "\n",
    "    # Perform the blending to create the morphed image\n",
    "    output = blend_images(warped_image1, warped_image2, alpha=0.5)\n",
    "    \n",
    "    cv2.imwrite(output_path, output)\n",
    "    \n",
    "    # Optionally, you can return the path to the output image\n",
    "    return output_path\n",
    "\n",
    "\n",
    "# Execute the processing function\n",
    "process_images(image1_path, image2_path, output_path)"
   ]
  }
 ],
 "metadata": {
  "kernelspec": {
   "display_name": "Python 3 (ipykernel)",
   "language": "python",
   "name": "python3"
  },
  "language_info": {
   "codemirror_mode": {
    "name": "ipython",
    "version": 3
   },
   "file_extension": ".py",
   "mimetype": "text/x-python",
   "name": "python",
   "nbconvert_exporter": "python",
   "pygments_lexer": "ipython3",
   "version": "3.9.13"
  }
 },
 "nbformat": 4,
 "nbformat_minor": 5
}
