{
 "cells": [
  {
   "cell_type": "code",
   "execution_count": null,
   "metadata": {},
   "outputs": [],
   "source": [
    "import numpy as np\n",
    "import cv2\n",
    "import os\n",
    "import sys\n",
    "\n",
    "# Environment variables or hardcoded for testing\n",
    "img_path1 = os.getenv('IMAGE1_PATH')\n",
    "img_path2 = os.getenv('IMAGE2_PATH')\n",
    "output_path = os.getenv('OUTPUT_PATH', 'output_video.mp4')\n",
    "\n",
    "# Ensure the output directory exists\n",
    "output_dir = 'output_frames'\n",
    "os.makedirs(output_dir, exist_ok=True)\n",
    "\n",
    "# Read images\n",
    "img1 = cv2.imread(img_path1)\n",
    "img2 = cv2.imread(img_path2)\n",
    "\n",
    "# Ensure both images are the same size\n",
    "if img1.shape[:2] != img2.shape[:2]:\n",
    "    img2 = cv2.resize(img2, (img1.shape[1], img1.shape[0]))\n",
    "\n",
    "# Define points (assumed pre-determined or calculated elsewhere)\n",
    "pts1 = np.array([[218, 240], [295, 240], [250, 383]], np.float32)\n",
    "pts2 = np.array([[248, 245], [345, 270], [281, 366]], np.float32)\n",
    "\n",
    "# Number of frames for morphing\n",
    "dis = 100.0\n",
    "\n",
    "# Pre-calculate transformations\n",
    "for i in range(int(dis)):\n",
    "    pts11 = pts1 + (pts2 - pts1) * (i / dis)\n",
    "    pts22 = pts2 - (pts2 - pts1) * (i / dis)\n",
    "    \n",
    "    # Affine transformations\n",
    "    mat1 = cv2.getAffineTransform(pts1, pts11)\n",
    "    mat2 = cv2.getAffineTransform(pts2, pts22)\n",
    "    \n",
    "    # Apply transformations\n",
    "    dst1 = cv2.warpAffine(img1, mat1, (img1.shape[1], img1.shape[0]), borderMode=cv2.BORDER_REPLICATE)\n",
    "    dst2 = cv2.warpAffine(img2, mat2, (img2.shape[1], img2.shape[0]), borderMode=cv2.BORDER_REPLICATE)\n",
    "    \n",
    "    # Blend images\n",
    "    alpha = i / dis\n",
    "    dst = cv2.addWeighted(dst1, 1 - alpha, dst2, alpha, 0)\n",
    "    \n",
    "    # Save the resulting frame\n",
    "    cv2.imwrite(os.path.join(output_dir, f'frame_{i:04d}.png'), dst)\n",
    "\n",
    "# Create a video from images\n",
    "fourcc = cv2.VideoWriter_fourcc(*'mp4v') \n",
    "video = cv2.VideoWriter(output_path, fourcc, 10, (img1.shape[1], img1.shape[0]))\n",
    "\n",
    "# Load all frames and write to video\n",
    "for i in range(int(dis)):\n",
    "    frame = cv2.imread(os.path.join(output_dir, f'frame_{i:04d}.png'))\n",
    "    video.write(frame)\n",
    "\n",
    "video.release()\n"
   ]
  },
  {
   "cell_type": "code",
   "execution_count": null,
   "metadata": {},
   "outputs": [],
   "source": []
  }
 ],
 "metadata": {
  "kernelspec": {
   "display_name": "Python 3 (ipykernel)",
   "language": "python",
   "name": "python3"
  },
  "language_info": {
   "codemirror_mode": {
    "name": "ipython",
    "version": 3
   },
   "file_extension": ".py",
   "mimetype": "text/x-python",
   "name": "python",
   "nbconvert_exporter": "python",
   "pygments_lexer": "ipython3",
   "version": "3.9.13"
  }
 },
 "nbformat": 4,
 "nbformat_minor": 4
}
